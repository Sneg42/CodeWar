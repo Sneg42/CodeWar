{
 "cells": [
  {
   "cell_type": "code",
   "execution_count": 1,
   "metadata": {
    "collapsed": true
   },
   "outputs": [],
   "source": [
    "import numpy as np\n",
    "import pandas as pd"
   ]
  },
  {
   "cell_type": "code",
   "execution_count": null,
   "metadata": {
    "collapsed": true
   },
   "outputs": [],
   "source": [
    "def buildMap(student):\n",
    "    dict_stud = {}\n",
    "    for s in student:\n",
    "        dict_stud[student.index(s)] = s\n",
    "    return dict_stud"
   ]
  },
  {
   "cell_type": "code",
   "execution_count": null,
   "metadata": {
    "collapsed": true
   },
   "outputs": [],
   "source": [
    "def merge(words, more):\n",
    "    sentence = words + more\n",
    "    return sentence"
   ]
  },
  {
   "cell_type": "code",
   "execution_count": null,
   "metadata": {
    "collapsed": true
   },
   "outputs": [],
   "source": [
    "sentence = merge([5,4,3], [6,7,8])\n",
    "print(sentence)"
   ]
  },
  {
   "cell_type": "markdown",
   "metadata": {},
   "source": [
    "# 1.1 "
   ]
  },
  {
   "cell_type": "code",
   "execution_count": null,
   "metadata": {
    "collapsed": true
   },
   "outputs": [],
   "source": [
    "class Solutiomn1_1():\n",
    "    def all_unique(s):\n",
    "#         s = s.lower()\n",
    "        arr = []\n",
    "        for let in s:\n",
    "            if let not in arr:\n",
    "                arr.append(let)\n",
    "            else:\n",
    "                return False\n",
    "        return True"
   ]
  },
  {
   "cell_type": "markdown",
   "metadata": {
    "collapsed": true
   },
   "source": [
    "# 1.3 "
   ]
  },
  {
   "cell_type": "code",
   "execution_count": null,
   "metadata": {
    "collapsed": true
   },
   "outputs": [],
   "source": [
    "def remove_duplicates(s):\n",
    "    if s == None: return False\n",
    "    length = len(s)\n",
    "    if length < 2: return False\n",
    "    tail = 1\n",
    "    for i in range(1, length):\n",
    "        for j in range(tail):\n",
    "            if s[i] == s[j]: \n",
    "                break\n",
    "        if j == tail:\n",
    "            print(2)\n",
    "            s = s[:tail] + s[i] + s[tail+1:]\n",
    "            tail += 1\n",
    "    s = s[:tail] + '0' + s[tail+1:]\n",
    "    return s"
   ]
  },
  {
   "cell_type": "markdown",
   "metadata": {},
   "source": [
    "# 1.4 "
   ]
  },
  {
   "cell_type": "code",
   "execution_count": null,
   "metadata": {
    "collapsed": true
   },
   "outputs": [],
   "source": [
    "from collections import Counter\n",
    "def reshuffle_polindrom(string):\n",
    "    length = len(string.replace(' ', ''))\n",
    "    map_letters = Counter(string)\n",
    "    if length == 0:\n",
    "        return False\n",
    "        \n",
    "    if length % 2 == 0:\n",
    "        for letter in map_letters.values():\n",
    "            if letter % 2 != 0:\n",
    "                return False\n",
    "        return True\n",
    "    else:\n",
    "        limit = 0\n",
    "        for letter in map_letters.values():\n",
    "            if letter % 2 != 0:\n",
    "                if limit > 1:\n",
    "                    return False\n",
    "                limit += 1\n",
    "        return True\n",
    "\n",
    "reshuffle_polindrom('azazzzcxcq   q')"
   ]
  },
  {
   "cell_type": "markdown",
   "metadata": {
    "collapsed": true
   },
   "source": [
    "# 1.5 "
   ]
  },
  {
   "cell_type": "code",
   "execution_count": null,
   "metadata": {
    "collapsed": true
   },
   "outputs": [],
   "source": [
    "def one_modification(string1, string2):\n",
    "    length1, length2 = len(string1), len(string2)\n",
    "    difference = abs(length1 - length2)\n",
    "    if difference == 0:\n",
    "        limit = 0\n",
    "        for i in range(length1):\n",
    "            if string1[i] != string2[i]:\n",
    "                limit += 1\n",
    "            if limit > 1:\n",
    "                return False\n",
    "        return True\n",
    "    elif difference == 1:\n",
    "        exp = 0\n",
    "        minimum_str = min(string1, string2, key=lambda x: len(x))\n",
    "        maximum_str = max(string1, string2, key=lambda x: len(x))\n",
    "        for i in range(len(minimum_str)):\n",
    "            print(i+exp)\n",
    "            if minimum_str[i] != maximum_str[i+exp]:\n",
    "                exp += 1\n",
    "                if exp > 1:\n",
    "                    return False\n",
    "        return True\n",
    "            \n",
    "    else:\n",
    "        return False\n",
    "one_modification('ple', 'ple')"
   ]
  },
  {
   "cell_type": "markdown",
   "metadata": {},
   "source": [
    "# 1.6 "
   ]
  },
  {
   "cell_type": "code",
   "execution_count": null,
   "metadata": {
    "collapsed": true
   },
   "outputs": [],
   "source": [
    "def shrot_string(string):\n",
    "    if string == '' or len(string) == 1:\n",
    "        return string\n",
    "    letter, short, count, length = string[0], '', 1, False\n",
    "    for i in range(1, len(string)):\n",
    "        if string[i] != letter:\n",
    "            short += letter + str(count)\n",
    "            letter = string[i]\n",
    "            count = 1\n",
    "        else:\n",
    "            count += 1\n",
    "            length = True\n",
    "        if i == len(string) - 1:\n",
    "            short += letter + str(count)\n",
    "    \n",
    "    return short if length else string\n",
    "shrot_string('zazz')"
   ]
  },
  {
   "cell_type": "markdown",
   "metadata": {},
   "source": [
    "# 1.7 "
   ]
  },
  {
   "cell_type": "code",
   "execution_count": 26,
   "metadata": {},
   "outputs": [
    {
     "data": {
      "text/plain": [
       "[[20, 15, 10, 5, 0],\n",
       " [21, 16, 11, 6, 1],\n",
       " [22, 17, 12, 7, 2],\n",
       " [23, 18, 13, 8, 3],\n",
       " [24, 19, 14, 9, 4]]"
      ]
     },
     "execution_count": 26,
     "metadata": {},
     "output_type": "execute_result"
    }
   ],
   "source": [
    "def turn_image(arr_arr, n):\n",
    "    for layer in range(int(n/2)):\n",
    "        first = layer\n",
    "        last = n - 1 - layer\n",
    "        for i in range(first, last):\n",
    "            offset = i - first\n",
    "            # Запсиать первый элемент\n",
    "            top = arr_arr[first][i]\n",
    "            \n",
    "            arr_arr[first][i] = arr_arr[last - offset][first]\n",
    "            \n",
    "            arr_arr[last - offset][first] = arr_arr[last][last - offset]\n",
    "            \n",
    "            arr_arr[last][last - offset] = arr_arr[i][last]\n",
    "            arr_arr[i][last] = top\n",
    "    return arr_arr\n",
    "turn_image([[0,1,2,3,4], \n",
    "            [5,6,7,8,9], \n",
    "            [10,11,12,13,14], \n",
    "            [15,16,17,18,19], \n",
    "            [20,21,22,23,24]], 5)"
   ]
  },
  {
   "cell_type": "markdown",
   "metadata": {
    "collapsed": true
   },
   "source": [
    "# 1.8 "
   ]
  },
  {
   "cell_type": "code",
   "execution_count": 17,
   "metadata": {},
   "outputs": [
    {
     "name": "stdout",
     "output_type": "stream",
     "text": [
      "[[0, 0, 0, 0], [4, 0, 0, 7], [0, 0, 0, 0]]\n",
      "Wall time: 0 ns\n"
     ]
    }
   ],
   "source": [
    "%%time\n",
    "def zero_in_matrix(matrix):\n",
    "    arr_horiz = [None for x in range(len(matrix[0]))]\n",
    "    arr_vert = [None for x in range(len(matrix))]\n",
    "    vert = [x for x in range(len(arr_vert))]\n",
    "    \n",
    "    for h in range(len(arr_horiz)):\n",
    "        for v in vert:\n",
    "            if matrix[v][h] == 0:\n",
    "                vert.remove(v)\n",
    "                arr_horiz[h] = 0\n",
    "                arr_vert[v] = 0\n",
    "    for index, zero in enumerate(arr_vert):\n",
    "        if zero == 0:\n",
    "            matrix[index] = [0 for x in range(len(arr_horiz))]\n",
    "    \n",
    "    for index, zero in enumerate(arr_horiz):\n",
    "        if zero == 0:\n",
    "            for i in range(len(matrix)):\n",
    "                matrix[i][index] = 0\n",
    "            \n",
    "    return matrix\n",
    "\n",
    "\n",
    "a = [[1,1,0,3],[4,5,6,7],[8,0,10,11]]\n",
    "print(zero_in_matrix(a))"
   ]
  },
  {
   "cell_type": "markdown",
   "metadata": {},
   "source": [
    "# 2.1 "
   ]
  },
  {
   "cell_type": "code",
   "execution_count": 62,
   "metadata": {},
   "outputs": [
    {
     "name": "stdout",
     "output_type": "stream",
     "text": [
      "1 - 3 - 4 - 1 - 3 - 5 - 1 - 9\n"
     ]
    }
   ],
   "source": [
    "# class for Linked List\n",
    "class Node:\n",
    "    def __init__(self, x):\n",
    "        self.val = x\n",
    "        self.next = None\n",
    "        \n",
    "    def __str__(self):\n",
    "        \"\"\" Функция для печатания полного списка \"\"\"\n",
    "        string = str(self.val)\n",
    "        node = self.next\n",
    "        \n",
    "        while node:\n",
    "            string += ' - ' +str(node.val)\n",
    "            node = node.next\n",
    "        return (string)\n",
    "\n",
    "a = Node(5); z = Node(3); z.next = a; v = Node(1); v.next = z; a.next = Node(1); a.next.next = Node(9)\n",
    "b = Node(3); b.next = Node(4); b.next.next = v; c = Node(1); c.next = b\n",
    "print(c)"
   ]
  },
  {
   "cell_type": "code",
   "execution_count": 31,
   "metadata": {},
   "outputs": [
    {
     "name": "stdout",
     "output_type": "stream",
     "text": [
      "1 - 3 - 4 - 1 - 3 - 5 - 1 - 9\n",
      "[1, 3, 4, 5, 9]\n",
      "1 - 3 - 4 - 5 - 9\n"
     ]
    }
   ],
   "source": [
    "def delet_double_data_in_link_list(link_list):\n",
    "    \n",
    "    if not isinstance(link_list, Node):\n",
    "        return link_list\n",
    "    \n",
    "    arr =[]\n",
    "    curr = link_list\n",
    "    prev = curr\n",
    "    new_link_list = prev\n",
    "    arr.append(curr.val)\n",
    "    \n",
    "    while curr.next:\n",
    "        prev = curr\n",
    "        curr = curr.next\n",
    "        if curr.val in arr:\n",
    "            prev.next = curr.next\n",
    "            curr = prev\n",
    "        else:\n",
    "            arr.append(curr.val)\n",
    "    print(arr)\n",
    "    return new_link_list\n",
    "\n",
    "print(delet_double_data_in_link_list(c))"
   ]
  },
  {
   "cell_type": "markdown",
   "metadata": {},
   "source": [
    "# 2.2"
   ]
  },
  {
   "cell_type": "code",
   "execution_count": 32,
   "metadata": {},
   "outputs": [
    {
     "name": "stdout",
     "output_type": "stream",
     "text": [
      "{1: 1, 2: 3, 3: 4, 4: 5, 5: 9}   3\n"
     ]
    },
    {
     "data": {
      "text/plain": [
       "4"
      ]
     },
     "execution_count": 32,
     "metadata": {},
     "output_type": "execute_result"
    }
   ],
   "source": [
    "def node_in_end_list(link_list, k):\n",
    "    dict_node = {}\n",
    "    n = 0\n",
    "    x = link_list\n",
    "    while x:\n",
    "        n += 1 # Аккуратней с увеличением цифр в циклах!! Смотреть когда добавляется и какой конечный результат\n",
    "        dict_node[n] = x.val # Возможно просто x так как мне нужно именно элемент списка а не его значение\n",
    "        x = x.next \n",
    "    return dict_node[n+1 - k]\n",
    "node_in_end_list(c, 3)"
   ]
  },
  {
   "cell_type": "markdown",
   "metadata": {
    "collapsed": true
   },
   "source": [
    "# 2.3"
   ]
  },
  {
   "cell_type": "code",
   "execution_count": 34,
   "metadata": {},
   "outputs": [
    {
     "name": "stdout",
     "output_type": "stream",
     "text": [
      "1 - 3 - 4 - 9\n"
     ]
    }
   ],
   "source": [
    "def del_node_in_mid(link_list, c):\n",
    "    x = link_list\n",
    "    while x.next:\n",
    "        if x.next.val == c:\n",
    "            x.next = x.next.next\n",
    "            break\n",
    "        x = x.next\n",
    "    return link_list\n",
    "print(del_node_in_mid(c, 5))"
   ]
  },
  {
   "cell_type": "markdown",
   "metadata": {},
   "source": [
    "# 2.4"
   ]
  },
  {
   "cell_type": "code",
   "execution_count": 7,
   "metadata": {},
   "outputs": [
    {
     "name": "stdout",
     "output_type": "stream",
     "text": [
      "1 - 1 - 1 - 3 - 3 - 4 - 5 - 9\n"
     ]
    }
   ],
   "source": [
    "def devivison_link_list(link_list, numb_of_devision):\n",
    "    low_link_list_begin = Node(0)\n",
    "    low_link_list_end = low_link_list_begin\n",
    "    up_link_list_begin = Node(0)\n",
    "    up_link_list_end = up_link_list_begin\n",
    "    x = link_list\n",
    "    while x:\n",
    "        if x.val < numb_of_devision:\n",
    "            low_link_list_end.next = x\n",
    "            low_link_list_end = low_link_list_end.next\n",
    "        else:\n",
    "            up_link_list_end.next = x\n",
    "            up_link_list_end = up_link_list_end.next\n",
    "        x = x.next\n",
    "    \n",
    "    low_link_list_end.next = up_link_list_begin.next\n",
    "    return low_link_list_begin.next\n",
    "print(devivison_link_list(c, 3))"
   ]
  },
  {
   "cell_type": "markdown",
   "metadata": {},
   "source": [
    "# 2.5"
   ]
  },
  {
   "cell_type": "code",
   "execution_count": 60,
   "metadata": {},
   "outputs": [
    {
     "name": "stdout",
     "output_type": "stream",
     "text": [
      "3   5 - 9 - 1 - 8 - 4 - 4\n",
      "8 - 9 - 1 - 8 - 4 - 4\n"
     ]
    }
   ],
   "source": [
    "def add_next(s, ten, cur):\n",
    "    if s>9:\n",
    "        cur.next = Node(s-10)\n",
    "        ten=1\n",
    "    else:\n",
    "        cur.next = Node(s)\n",
    "    cur = cur.next\n",
    "    return cur, ten\n",
    "\n",
    "def last_numbers(n, ten, cur):\n",
    "    if ten != 1 and n:\n",
    "        cur.next = n\n",
    "    while n and ten == 1:\n",
    "        s = ten + n.val\n",
    "        ten = 0\n",
    "        cur, ten = add_next(s, ten, cur)\n",
    "        cur.next = n.next\n",
    "        n = n.next\n",
    "    return cur, ten\n",
    "\n",
    "def sum_two_link_list(n1, n2):\n",
    "    ten = 0\n",
    "    summ = Node(0)\n",
    "    cur = summ\n",
    "    while n1 and n2:\n",
    "        s = n1.val + n2.val + ten\n",
    "                \n",
    "        cur, ten = add_next(s, ten, cur)\n",
    "        n1 = n1.next\n",
    "        n2 = n2.next\n",
    "        \n",
    "    cur, ten = last_numbers(n1, ten, cur)\n",
    "    cur, ten = last_numbers(n2, ten, cur)\n",
    "    \n",
    "    if ten == 1:\n",
    "        cur.next = Node(1)\n",
    "    return summ.next\n",
    "\n",
    "a = Node(9); z = Node(1); z.next = a; n1 = Node(4); n1.next = z; #a.next = Node(9)\n",
    "a = Node(1); z = Node(9); z.next = a; n2 = Node(5); n2.next = z; a.next = Node(8); a.next.next = Node(4);a.next.next.next = Node(4)\n",
    "n1 = Node(3)\n",
    "print(n1, ' ', n2)\n",
    "print(sum_two_link_list(n1, n2))"
   ]
  },
  {
   "cell_type": "markdown",
   "metadata": {},
   "source": [
    "# 2.6"
   ]
  },
  {
   "cell_type": "code",
   "execution_count": 94,
   "metadata": {},
   "outputs": [
    {
     "name": "stdout",
     "output_type": "stream",
     "text": [
      "4 - 1 - 1 - 4\n"
     ]
    },
    {
     "data": {
      "text/plain": [
       "True"
      ]
     },
     "execution_count": 94,
     "metadata": {},
     "output_type": "execute_result"
    }
   ],
   "source": [
    "def check_polindrom(link_list):\n",
    "    slow = link_list\n",
    "    fast = link_list\n",
    "    stack = []\n",
    "    while slow:\n",
    "        if fast:\n",
    "            try:\n",
    "                fast.next.next\n",
    "                fast = fast.next.next\n",
    "                stack.append(slow.val)\n",
    "            except:\n",
    "                fast = None\n",
    "        else:\n",
    "            if slow.val != stack.pop():\n",
    "                return False\n",
    "        slow = slow.next\n",
    "    return True\n",
    "a = Node(1); z = Node(1); z.next = Node(9); z.next = a; n1 = Node(4); n1.next = z; a.next = Node(4)\n",
    "print(n1)\n",
    "check_polindrom(n1)"
   ]
  },
  {
   "cell_type": "markdown",
   "metadata": {},
   "source": [
    "# 2.7"
   ]
  },
  {
   "cell_type": "code",
   "execution_count": null,
   "metadata": {
    "collapsed": true
   },
   "outputs": [],
   "source": []
  },
  {
   "cell_type": "code",
   "execution_count": null,
   "metadata": {
    "collapsed": true
   },
   "outputs": [],
   "source": []
  },
  {
   "cell_type": "code",
   "execution_count": null,
   "metadata": {
    "collapsed": true
   },
   "outputs": [],
   "source": []
  },
  {
   "cell_type": "code",
   "execution_count": null,
   "metadata": {
    "collapsed": true
   },
   "outputs": [],
   "source": []
  },
  {
   "cell_type": "code",
   "execution_count": null,
   "metadata": {
    "collapsed": true
   },
   "outputs": [],
   "source": []
  },
  {
   "cell_type": "code",
   "execution_count": null,
   "metadata": {
    "collapsed": true
   },
   "outputs": [],
   "source": []
  },
  {
   "cell_type": "code",
   "execution_count": null,
   "metadata": {
    "collapsed": true
   },
   "outputs": [],
   "source": []
  },
  {
   "cell_type": "code",
   "execution_count": null,
   "metadata": {
    "collapsed": true
   },
   "outputs": [],
   "source": []
  },
  {
   "cell_type": "code",
   "execution_count": null,
   "metadata": {
    "collapsed": true
   },
   "outputs": [],
   "source": []
  },
  {
   "cell_type": "code",
   "execution_count": null,
   "metadata": {
    "collapsed": true
   },
   "outputs": [],
   "source": []
  },
  {
   "cell_type": "code",
   "execution_count": null,
   "metadata": {
    "collapsed": true
   },
   "outputs": [],
   "source": []
  },
  {
   "cell_type": "code",
   "execution_count": null,
   "metadata": {
    "collapsed": true
   },
   "outputs": [],
   "source": []
  },
  {
   "cell_type": "code",
   "execution_count": null,
   "metadata": {
    "collapsed": true
   },
   "outputs": [],
   "source": []
  },
  {
   "cell_type": "code",
   "execution_count": null,
   "metadata": {
    "collapsed": true
   },
   "outputs": [],
   "source": []
  },
  {
   "cell_type": "code",
   "execution_count": null,
   "metadata": {
    "collapsed": true
   },
   "outputs": [],
   "source": []
  },
  {
   "cell_type": "code",
   "execution_count": null,
   "metadata": {
    "collapsed": true
   },
   "outputs": [],
   "source": []
  },
  {
   "cell_type": "code",
   "execution_count": null,
   "metadata": {
    "collapsed": true
   },
   "outputs": [],
   "source": []
  }
 ],
 "metadata": {
  "kernelspec": {
   "display_name": "Python 3",
   "language": "python",
   "name": "python3"
  },
  "language_info": {
   "codemirror_mode": {
    "name": "ipython",
    "version": 3
   },
   "file_extension": ".py",
   "mimetype": "text/x-python",
   "name": "python",
   "nbconvert_exporter": "python",
   "pygments_lexer": "ipython3",
   "version": "3.6.3"
  }
 },
 "nbformat": 4,
 "nbformat_minor": 2
}
