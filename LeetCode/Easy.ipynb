{
 "cells": [
  {
   "cell_type": "code",
   "execution_count": 9,
   "metadata": {},
   "outputs": [],
   "source": [
    "import pandas as pd\n",
    "import numpy as np"
   ]
  },
  {
   "cell_type": "code",
   "execution_count": 85,
   "metadata": {
    "collapsed": true
   },
   "outputs": [],
   "source": [
    "# Проверка на полиндром рада цифр или текста\n",
    "class Solution:\n",
    "    def isPalindrome(self, x):\n",
    "        \"\"\"\n",
    "        :type x: int\n",
    "        :rtype: bool\n",
    "        \"\"\"\n",
    "        arr = x.copy()\n",
    "\n",
    "        x.reverse()\n",
    "        print(x)\n",
    "\n",
    "        return x == arr"
   ]
  },
  {
   "cell_type": "code",
   "execution_count": 210,
   "metadata": {
    "collapsed": true
   },
   "outputs": [],
   "source": [
    "# Проверка на полиндром связанного списка\n",
    "# https://en.wikipedia.org/wiki/Cycle_detection\n",
    "\n",
    "# Definition for singly-linked list.\n",
    "# class ListNode:\n",
    "#     def __init__(self, x):\n",
    "#         self.val = x\n",
    "#         self.next = None\n",
    "\n",
    "class Solution:\n",
    "    def isPalindrome(self, head):\n",
    "        \"\"\"\n",
    "        :type head: ListNode\n",
    "        :rtype: bool\n",
    "        \"\"\"\n",
    "        if not head or not head.next:\n",
    "            return True\n",
    "        # создания второго списка\n",
    "        fast = head\n",
    "        stack_head = None\n",
    "        # фаст проходит в два разы быстрее до конца списка, одд нужен чтобы учитывать четное или не четное\n",
    "        # кол-во в списке. темпу присваивается список со следющей переменной в главном, а следющей \n",
    "        # переменной в главном присваивается значение стак_хеад(обратный список). Потом стек_хеад\n",
    "        # присваиватеся главный список, а главному списку присваивается значение из списка темп\n",
    "        while fast.next:\n",
    "            fast, odd = fast.next, False\n",
    "            if fast.next:\n",
    "                fast, odd = fast.next, True\n",
    "            temp, head.next = head.next, stack_head\n",
    "            stack_head, head = head, temp\n",
    "            \n",
    "        if odd:\n",
    "            head = head.next\n",
    "\n",
    "        while head:\n",
    "            if head.val != stack_head.val:\n",
    "                return False\n",
    "            head, stack_head = head.next, stack_head.next \n",
    "        return True"
   ]
  },
  {
   "cell_type": "code",
   "execution_count": null,
   "metadata": {
    "collapsed": true
   },
   "outputs": [],
   "source": [
    "# Создать реверсивнрый связный список с m по n номер в исходном списке\n",
    "class Solution:\n",
    "    def reverseBetween(self, head, m, n):\n",
    "        \"\"\"\n",
    "        :type head: ListNode\n",
    "        :type m: int\n",
    "        :type n: int\n",
    "        :rtype: ListNode\n",
    "        \"\"\"\n",
    "        link_list = ListNode(0)\n",
    "        link_list.next = head\n",
    "        # check correct head\n",
    "        if not head or not head.next or m == n:\n",
    "            return head\n",
    "        c=1\n",
    "        # go to the previosly node befrore m\n",
    "        while c != m-1 and m !=1:\n",
    "            head = head.next\n",
    "            c+=1\n",
    "        prev_link_list = head\n",
    "        if m==1:\n",
    "            prev_link_list = link_list\n",
    "        # create new link_list for work with revers    \n",
    "        link_list_for_revers = prev_link_list.next\n",
    "        # distance between m & n\n",
    "        repeat = n - m + 1\n",
    "        end = None\n",
    "        for i in range(repeat):\n",
    "            if i == 0: # for 1st must be link to link_list 'end'\n",
    "                temp, link_list_for_revers.next = link_list_for_revers.next, end\n",
    "                end, link_list_for_revers = link_list_for_revers, temp\n",
    "                revers_list = end\n",
    "            else:\n",
    "                temp, link_list_for_revers.next = link_list_for_revers.next, revers_list\n",
    "                revers_list, link_list_for_revers = link_list_for_revers, temp\n",
    "        end.next = temp\n",
    "        prev_link_list.next = revers_list\n",
    "        return link_list.next"
   ]
  },
  {
   "cell_type": "code",
   "execution_count": 68,
   "metadata": {},
   "outputs": [],
   "source": [
    "class Solution:\n",
    "    def intToRoman(self, num):\n",
    "        \"\"\"\n",
    "        :type num: int\n",
    "        :rtype: str\n",
    "        \"\"\"\n",
    "        dict = {1:'I', 5:'V', 10:'X', 50:'L', 100:\"C\", 500:'D', 1000:'M'}\n",
    "        div = 10\n",
    "        div2 = 5\n",
    "        z = num % div\n",
    "        rom =''\n",
    "        for i in range(len(str(num))):\n",
    "            if z  == 0:\n",
    "                pass\n",
    "            else:\n",
    "                if z == 10:\n",
    "                    rom = dict[div/10] + rom\n",
    "                elif z == 4 or z ==9:\n",
    "                    rom = dict[div/10] + dict[(z + 1)*div/10] + rom\n",
    "                elif z % div2 != 0:\n",
    "                    rom = (z % div2) * dict[div/10] + rom\n",
    "                    rom = int(z / div2) * dict[div2] + rom\n",
    "\n",
    "            div *= 10\n",
    "            div2 *= 10\n",
    "            z = num % div\n",
    "        return rom"
   ]
  },
  {
   "cell_type": "code",
   "execution_count": 70,
   "metadata": {},
   "outputs": [
    {
     "data": {
      "text/plain": [
       "'CCCCCCCCCCCCCCCCCCCCCCCCCCCCCCCCCCCCCCCCCCCCCCCCCCCCCCCCCCCCCCCCCCCCCCCCCCCCCCCCCCCCCCCCCCCCCCCCCCCC'"
      ]
     },
     "execution_count": 70,
     "metadata": {},
     "output_type": "execute_result"
    }
   ],
   "source": [
    "test = Solution\n",
    "\n",
    "test.intToRoman(test, num=100)"
   ]
  },
  {
   "cell_type": "code",
   "execution_count": null,
   "metadata": {},
   "outputs": [],
   "source": []
  },
  {
   "cell_type": "code",
   "execution_count": 55,
   "metadata": {},
   "outputs": [
    {
     "data": {
      "text/plain": [
       "3"
      ]
     },
     "execution_count": 55,
     "metadata": {},
     "output_type": "execute_result"
    }
   ],
   "source": [
    "103%10"
   ]
  },
  {
   "cell_type": "code",
   "execution_count": null,
   "metadata": {
    "collapsed": true
   },
   "outputs": [],
   "source": []
  }
 ],
 "metadata": {
  "kernelspec": {
   "display_name": "Python 3",
   "language": "python",
   "name": "python3"
  },
  "language_info": {
   "codemirror_mode": {
    "name": "ipython",
    "version": 3
   },
   "file_extension": ".py",
   "mimetype": "text/x-python",
   "name": "python",
   "nbconvert_exporter": "python",
   "pygments_lexer": "ipython3",
   "version": "3.6.3"
  }
 },
 "nbformat": 4,
 "nbformat_minor": 2
}
