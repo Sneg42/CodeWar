{
 "cells": [
  {
   "cell_type": "code",
   "execution_count": 2,
   "metadata": {
    "collapsed": true
   },
   "outputs": [],
   "source": [
    "import numpy as np\n",
    "import re"
   ]
  },
  {
   "cell_type": "code",
   "execution_count": null,
   "metadata": {
    "collapsed": true
   },
   "outputs": [],
   "source": [
    "import re\n",
    "# 3.145\n",
    "a = \"-4526\"\n",
    "re.match('[ -]+\\d+[ ,.]',a ).group()[:-1]\n",
    "\n",
    "# a.split()[0]\n",
    "# int(a.split(sep=('.' and ' '))[0])"
   ]
  },
  {
   "cell_type": "code",
   "execution_count": 56,
   "metadata": {},
   "outputs": [
    {
     "data": {
      "text/plain": [
       "-132"
      ]
     },
     "execution_count": 56,
     "metadata": {},
     "output_type": "execute_result"
    }
   ],
   "source": [
    "class Solution:\n",
    "    def myAtoi(string):\n",
    "        s = re.match('[ ]*[+-]?\\d+', string)\n",
    "        numb = 0\n",
    "        \n",
    "        if s:\n",
    "            numb = int(s.group())\n",
    "        \n",
    "        if numb < -2**31:\n",
    "            numb = -2**31\n",
    "        if numb > 2**31:\n",
    "            numb = 2**31\n",
    "        return numb\n",
    "Solution.myAtoi('-132')"
   ]
  },
  {
   "cell_type": "code",
   "execution_count": 96,
   "metadata": {},
   "outputs": [
    {
     "data": {
      "text/plain": [
       "True"
      ]
     },
     "execution_count": 96,
     "metadata": {},
     "output_type": "execute_result"
    }
   ],
   "source": [
    "class Solution:\n",
    "    def isMatch(s, p):\n",
    "#         if not s or not p:\n",
    "#             return False\n",
    "        boolean = re.search(p, s)\n",
    "        if boolean:\n",
    "            return  boolean.group() == s\n",
    "        return False\n",
    "Solution.isMatch(\"\", \".*\")\n"
   ]
  },
  {
   "cell_type": "code",
   "execution_count": null,
   "metadata": {
    "collapsed": true
   },
   "outputs": [],
   "source": []
  }
 ],
 "metadata": {
  "kernelspec": {
   "display_name": "Python 3",
   "language": "python",
   "name": "python3"
  },
  "language_info": {
   "codemirror_mode": {
    "name": "ipython",
    "version": 3
   },
   "file_extension": ".py",
   "mimetype": "text/x-python",
   "name": "python",
   "nbconvert_exporter": "python",
   "pygments_lexer": "ipython3",
   "version": "3.6.3"
  }
 },
 "nbformat": 4,
 "nbformat_minor": 2
}
