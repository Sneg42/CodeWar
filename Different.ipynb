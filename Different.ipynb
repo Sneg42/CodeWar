{
 "cells": [
  {
   "cell_type": "code",
   "execution_count": 1,
   "metadata": {
    "collapsed": true
   },
   "outputs": [],
   "source": [
    "class ComplNum:\n",
    "    # Constructor\n",
    "    def __init__(self, x=0, y=0):\n",
    "        if type(x) == ComplNum:\n",
    "            self.Re=x.Re\n",
    "            self.Im=x.Im\n",
    "        else:\n",
    "            self.Re=x\n",
    "            self.Im=y\n",
    "    def show(self):\n",
    "        print (\"Re =\", self.Re)\n",
    "        print (\"Im =\", self.Im)\n"
   ]
  },
  {
   "cell_type": "code",
   "execution_count": 2,
   "metadata": {},
   "outputs": [
    {
     "name": "stdout",
     "output_type": "stream",
     "text": [
      "Re = 1\n",
      "Im = 2\n",
      "Re = 1\n",
      "Im = 2\n"
     ]
    }
   ],
   "source": [
    "a=ComplNum(1, 2)\n",
    "b=ComplNum(a)\n",
    "a.show()\n",
    "b.show()"
   ]
  },
  {
   "cell_type": "code",
   "execution_count": 3,
   "metadata": {},
   "outputs": [
    {
     "name": "stdout",
     "output_type": "stream",
     "text": [
      "pole __class__\n",
      "Exempl obj <class '__main__.Alpha'>\n",
      "Class Alpha: <class 'type'>\n",
      "Class Bravo: <class 'type'>\n",
      "Class Charlie: <class 'type'>\n",
      "\n",
      "Polia __base__, __mro__\n",
      "Class Delta, pole __base__: <class '__main__.Charlie'>\n",
      "Class Delta, pole __mro__: (<class '__main__.Delta'>, <class '__main__.Charlie'>, <class '__main__.Alpha'>, <class 'object'>)\n",
      "Class Alpha, pole __base__: <class 'object'>\n",
      "Class Alpha, pole __mro__: (<class '__main__.Alpha'>, <class 'object'>)\n",
      "\n",
      "Pole doc\n",
      "Описание класса Alpha: None\n",
      "Описание класса Delta: Класс Дельта наследуется от класса Чарли\n",
      "\n",
      "__module__\n",
      "Можуль класса Alpha: __main__\n",
      "pole __dict__\n",
      "Атрибуты Alpha: {'__module__': '__main__', 'hello': <function Alpha.hello at 0x0000000005B462F0>, 'Bravo': <class '__main__.Alpha.Bravo'>, '__dict__': <attribute '__dict__' of 'Alpha' objects>, '__weakref__': <attribute '__weakref__' of 'Alpha' objects>, '__doc__': None}\n",
      "Атрибуты Bravo: {'__module__': '__main__', '__dict__': <attribute '__dict__' of 'Bravo' objects>, '__weakref__': <attribute '__weakref__' of 'Bravo' objects>, '__doc__': None}\n",
      "Атрибуты Delta: {'__module__': '__main__', '__doc__': 'Класс Дельта наследуется от класса Чарли'}\n",
      "\n",
      "Polia __name__, __qualname__\n",
      "Class Alpha, pole __name__: Alpha\n",
      "Class Alpha, pole __qualname__: Alpha\n",
      "Class Alpha.Bravo, pole __name__: Bravo\n",
      "Class Alpha.Bravo, pole __qualname__: Alpha.Bravo\n",
      "Class Delta, pole __name__: Delta\n",
      "Class Delta, pole __qualname__: Delta\n"
     ]
    }
   ],
   "source": [
    "class Alpha:\n",
    "    def hello():\n",
    "        pass\n",
    "    class Bravo:\n",
    "        pass\n",
    "class Charlie(Alpha):\n",
    "    pass\n",
    "class Delta(Charlie):\n",
    "    pass\n",
    "obj=Alpha()\n",
    "print('pole __class__')\n",
    "print('Exempl obj', obj.__class__)\n",
    "print('Class Alpha:', Alpha.__class__)\n",
    "print('Class Bravo:', Alpha.Bravo.__class__)\n",
    "print('Class Charlie:', Charlie.__class__)\n",
    "\n",
    "print('\\nPolia __base__, __mro__')\n",
    "print('Class Delta, pole __base__:', Delta.__base__)\n",
    "print('Class Delta, pole __mro__:', Delta.__mro__)\n",
    "print('Class Alpha, pole __base__:', Alpha.__base__)\n",
    "print('Class Alpha, pole __mro__:', Alpha.__mro__)\n",
    "\n",
    "print('\\nPole doc')\n",
    "print('Описание класса Alpha:', Alpha.__doc__)\n",
    "Delta.__doc__ = 'Класс Дельта наследуется от класса Чарли'\n",
    "print('Описание класса Delta:', Delta.__doc__)\n",
    "print('\\n__module__')\n",
    "print('Можуль класса Alpha:', Alpha.__module__)\n",
    "\n",
    "print('pole __dict__')\n",
    "print('Атрибуты Alpha:', Alpha.__dict__)\n",
    "print('Атрибуты Bravo:', Alpha.Bravo.__dict__)\n",
    "print('Атрибуты Delta:', Delta.__dict__)\n",
    "\n",
    "print('\\nPolia __name__, __qualname__')\n",
    "print('Class Alpha, pole __name__:', Alpha.__name__)\n",
    "print('Class Alpha, pole __qualname__:', Alpha.__qualname__)\n",
    "print('Class Alpha.Bravo, pole __name__:', Alpha.Bravo.__name__)\n",
    "print('Class Alpha.Bravo, pole __qualname__:', Alpha.Bravo.__qualname__)\n",
    "print('Class Delta, pole __name__:', Delta.__name__)\n",
    "print('Class Delta, pole __qualname__:', Delta.__qualname__)"
   ]
  },
  {
   "cell_type": "code",
   "execution_count": 15,
   "metadata": {
    "collapsed": true
   },
   "outputs": [],
   "source": [
    "from datetime import date\n",
    "import shutil"
   ]
  },
  {
   "cell_type": "code",
   "execution_count": 46,
   "metadata": {},
   "outputs": [
    {
     "data": {
      "text/plain": [
       "'1-1-2017.csv'"
      ]
     },
     "execution_count": 46,
     "metadata": {},
     "output_type": "execute_result"
    }
   ],
   "source": [
    "# datetime.toordinal(1481602192)\n",
    "a = date.fromtimestamp(1483250892)\n",
    "b = '{}-{}-{}.csv'.format(a.month, a.day, a.year)\n",
    "b"
   ]
  },
  {
   "cell_type": "code",
   "execution_count": 17,
   "metadata": {},
   "outputs": [
    {
     "data": {
      "text/plain": [
       "'2.txt'"
      ]
     },
     "execution_count": 17,
     "metadata": {},
     "output_type": "execute_result"
    }
   ],
   "source": [
    "# скопировать файл в другой файл\n",
    "shutil.copyfile('1.txt', '2.txt')"
   ]
  },
  {
   "cell_type": "code",
   "execution_count": 23,
   "metadata": {},
   "outputs": [
    {
     "data": {
      "text/plain": [
       "2016"
      ]
     },
     "execution_count": 23,
     "metadata": {},
     "output_type": "execute_result"
    }
   ],
   "source": []
  },
  {
   "cell_type": "code",
   "execution_count": 5,
   "metadata": {},
   "outputs": [
    {
     "data": {
      "text/plain": [
       "Power_divergenceResult(statistic=2.6200000000000001, pvalue=0.26982005638468687)"
      ]
     },
     "execution_count": 5,
     "metadata": {},
     "output_type": "execute_result"
    }
   ],
   "source": [
    "import pandas as pd\n",
    "from scipy.stats import chisquare\n",
    "chisquare([18, 55, 27], f_exp=[25, 50, 25])"
   ]
  },
  {
   "cell_type": "code",
   "execution_count": null,
   "metadata": {
    "collapsed": true
   },
   "outputs": [],
   "source": []
  },
  {
   "cell_type": "code",
   "execution_count": null,
   "metadata": {
    "collapsed": true
   },
   "outputs": [],
   "source": []
  },
  {
   "cell_type": "code",
   "execution_count": null,
   "metadata": {
    "collapsed": true
   },
   "outputs": [],
   "source": []
  },
  {
   "cell_type": "code",
   "execution_count": null,
   "metadata": {
    "collapsed": true
   },
   "outputs": [],
   "source": []
  },
  {
   "cell_type": "code",
   "execution_count": null,
   "metadata": {
    "collapsed": true
   },
   "outputs": [],
   "source": []
  }
 ],
 "metadata": {
  "kernelspec": {
   "display_name": "Python 3",
   "language": "python",
   "name": "python3"
  },
  "language_info": {
   "codemirror_mode": {
    "name": "ipython",
    "version": 3
   },
   "file_extension": ".py",
   "mimetype": "text/x-python",
   "name": "python",
   "nbconvert_exporter": "python",
   "pygments_lexer": "ipython3",
   "version": "3.6.3"
  }
 },
 "nbformat": 4,
 "nbformat_minor": 2
}
