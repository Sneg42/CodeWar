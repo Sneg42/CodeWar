{
 "cells": [
  {
   "cell_type": "code",
   "execution_count": 11,
   "metadata": {},
   "outputs": [
    {
     "data": {
      "text/plain": [
       "True"
      ]
     },
     "execution_count": 11,
     "metadata": {},
     "output_type": "execute_result"
    }
   ],
   "source": [
    "def xo(s):\n",
    "    s = s.lower()\n",
    "    return s.count('x') == s.count('o')\n",
    "xo('xxoO')"
   ]
  },
  {
   "cell_type": "code",
   "execution_count": 32,
   "metadata": {},
   "outputs": [
    {
     "data": {
      "text/plain": [
       "'sd'"
      ]
     },
     "execution_count": 32,
     "metadata": {},
     "output_type": "execute_result"
    }
   ],
   "source": [
    "def disemvowel(s):\n",
    "    translator = str.maketrans({key: None for key in \"aeiouAEIOU\"})\n",
    "    return s.translate(translator)\n",
    "def disemvowel(s):\n",
    "    return s.translate(str.maketrans('','','aeiouAEIOU'))\n",
    "def disemvowel(string):\n",
    "    return \"\".join(c for c in string if c.lower() not in \"aeiou\")\n",
    "disemvowel('sade')\n"
   ]
  },
  {
   "cell_type": "code",
   "execution_count": 5,
   "metadata": {},
   "outputs": [
    {
     "data": {
      "text/plain": [
       "'abcdfhkqsw'"
      ]
     },
     "execution_count": 5,
     "metadata": {},
     "output_type": "execute_result"
    }
   ],
   "source": [
    "def longest(a1, a2):\n",
    "    return \"\".join(sorted(set(a1 + a2)))\n",
    "longest('askdsahch', 'asdasdhqwdfhbsc')"
   ]
  },
  {
   "cell_type": "code",
   "execution_count": 1,
   "metadata": {},
   "outputs": [
    {
     "name": "stdout",
     "output_type": "stream",
     "text": [
      "Z-Pp-Ggg-Llll-Nnnnn-Rrrrrr-Xxxxxxx-Qqqqqqqq-Eeeeeeeee-Nnnnnnnnnn-Uuuuuuuuuuu\n"
     ]
    }
   ],
   "source": [
    "def accum(s):\n",
    "    return '-'.join(c.upper() + c.lower() * i for i, c in enumerate(s))\n",
    "\n",
    "def accum(s):\n",
    "    return '-'.join((a * i).title() for i, a in enumerate(s, 1))\n",
    "print (accum('ZpglnRxqenU'))"
   ]
  },
  {
   "cell_type": "code",
   "execution_count": 2,
   "metadata": {},
   "outputs": [
    {
     "name": "stdout",
     "output_type": "stream",
     "text": [
      "7\n"
     ]
    }
   ],
   "source": [
    "def getCount(inputStr):\n",
    "    return sum(1 for let in inputStr if let in \"aeiouAEIOU\")\n",
    "\n",
    "def getCount(s):\n",
    "    return sum(c in 'aeiou' for c in s)\n",
    "print (getCount('abrucadoabrae'))"
   ]
  },
  {
   "cell_type": "code",
   "execution_count": 3,
   "metadata": {},
   "outputs": [
    {
     "name": "stdout",
     "output_type": "stream",
     "text": [
      "How Can Mirrors Be Real If Our Eyes Aren't Real\n"
     ]
    }
   ],
   "source": [
    "import string\n",
    "def toJadenCase(NonJadenStrings):\n",
    "    return string.capwords(NonJadenStrings)\n",
    "\n",
    "def toJadenCase(string):        \n",
    "    return \" \".join(w.capitalize() for w in string.split())\n",
    "print (toJadenCase(\"How can mirrors be real if our eyes aren't real\"))"
   ]
  },
  {
   "cell_type": "code",
   "execution_count": 4,
   "metadata": {},
   "outputs": [
    {
     "name": "stdout",
     "output_type": "stream",
     "text": [
      "ATTCG\n"
     ]
    }
   ],
   "source": [
    "def DNA_strand(dna):\n",
    "    return dna.translate(str.maketrans(\"ATCG\",\"TAGC\"))\n",
    "\n",
    "pairs = {'A':'T','T':'A','C':'G','G':'C'}\n",
    "def DNA_strand(dna):\n",
    "    return ''.join([pairs[x] for x in dna])\n",
    "print (DNA_strand('TAAGC'))"
   ]
  },
  {
   "cell_type": "code",
   "execution_count": 5,
   "metadata": {},
   "outputs": [
    {
     "name": "stdout",
     "output_type": "stream",
     "text": [
      "765441\n"
     ]
    }
   ],
   "source": [
    "def Descending_Order(num):\n",
    "    return int(\"\".join(sorted(str(num), reverse=True)))    \n",
    "print (Descending_Order(164457))"
   ]
  },
  {
   "cell_type": "code",
   "execution_count": 6,
   "metadata": {},
   "outputs": [
    {
     "name": "stdout",
     "output_type": "stream",
     "text": [
      "3\n"
     ]
    }
   ],
   "source": [
    "def find_short(s):\n",
    "    return min(len(w) for w in s.split())\n",
    "print (find_short(\"bitcoin take over the\"))"
   ]
  },
  {
   "cell_type": "code",
   "execution_count": 2,
   "metadata": {},
   "outputs": [
    {
     "name": "stdout",
     "output_type": "stream",
     "text": [
      "True\n"
     ]
    }
   ],
   "source": [
    "def is_isogram(string):\n",
    "    return len(string) == len(set(string.lower()))\n",
    "\n",
    "def is_isogram(string):\n",
    "    string = string.lower()\n",
    "    for letter in string:\n",
    "        if string.count(letter) > 1: return False\n",
    "    return True\n",
    "print (is_isogram(\"Dermatoglyphics\" ))"
   ]
  },
  {
   "cell_type": "code",
   "execution_count": 10,
   "metadata": {},
   "outputs": [
    {
     "name": "stdout",
     "output_type": "stream",
     "text": [
      "13\n"
     ]
    }
   ],
   "source": [
    "def sum_two_smallest_numbers(numbers):\n",
    "    numbers.sort()\n",
    "    return numbers[0] + numbers[1]\n",
    "\n",
    "def sum_two_smallest_numbers(numbers):\n",
    "    return sum(sorted(numbers)[:2])\n",
    "print (sum_two_smallest_numbers([5, 8, 12, 18, 22]))"
   ]
  },
  {
   "cell_type": "code",
   "execution_count": 62,
   "metadata": {},
   "outputs": [
    {
     "name": "stdout",
     "output_type": "stream",
     "text": [
      "[1, 2, 123]\n"
     ]
    }
   ],
   "source": [
    "def filter_list(l):\n",
    "    return [x for x in l if type(x) is not str]\n",
    "def filter_list(l):\n",
    "    return [i for i in l if not isinstance(i, str)]\n",
    "print (filter_list([1,2,'aasf','1','123',123]))"
   ]
  },
  {
   "cell_type": "code",
   "execution_count": 12,
   "metadata": {},
   "outputs": [
    {
     "name": "stdout",
     "output_type": "stream",
     "text": [
      "False\n"
     ]
    }
   ],
   "source": [
    "import re\n",
    "def validate_pin(pin):\n",
    "    return bool(re.match(r'^(\\d{4}|\\d{6})$',pin))\n",
    "def validate_pin(pin):\n",
    "    return len(pin) in (4, 6) and pin.isdigit()\n",
    "print (validate_pin(\"12345\"))"
   ]
  },
  {
   "cell_type": "code",
   "execution_count": 27,
   "metadata": {},
   "outputs": [
    {
     "data": {
      "text/plain": [
       "False"
      ]
     },
     "execution_count": 27,
     "metadata": {},
     "output_type": "execute_result"
    }
   ],
   "source": [
    "from math import sqrt\n",
    "\n",
    "def is_square(n):\n",
    "    return n > 0 and sqrt(n).is_integer()\n",
    "def is_square(n):  \n",
    "    return n>0 and (n**0.5).is_integer()\n",
    "is_square(-1)"
   ]
  },
  {
   "cell_type": "code",
   "execution_count": 64,
   "metadata": {},
   "outputs": [
    {
     "name": "stdout",
     "output_type": "stream",
     "text": [
      "<class 'int'>\n",
      "<class 'int'>\n",
      "<class 'str'>\n",
      "<class 'str'>\n",
      "<class 'str'>\n",
      "<class 'int'>\n"
     ]
    },
    {
     "data": {
      "text/plain": [
       "[1, 2, 123]"
      ]
     },
     "execution_count": 64,
     "metadata": {},
     "output_type": "execute_result"
    }
   ],
   "source": [
    "def filter_list(l):\n",
    "    a=[]\n",
    "    for x in l:\n",
    "        \n",
    "        print (type(x))\n",
    "        if not isinstance(x, str):\n",
    "            a.append(x)\n",
    "    return a\n",
    "filter_list([1, 2, 'aasf', '1', '123', 123])  "
   ]
  },
  {
   "cell_type": "code",
   "execution_count": null,
   "metadata": {
    "collapsed": true
   },
   "outputs": [],
   "source": []
  }
 ],
 "metadata": {
  "kernelspec": {
   "display_name": "Python 3",
   "language": "python",
   "name": "python3"
  },
  "language_info": {
   "codemirror_mode": {
    "name": "ipython",
    "version": 3
   },
   "file_extension": ".py",
   "mimetype": "text/x-python",
   "name": "python",
   "nbconvert_exporter": "python",
   "pygments_lexer": "ipython3",
   "version": "3.6.3"
  }
 },
 "nbformat": 4,
 "nbformat_minor": 2
}
