{
 "cells": [
  {
   "cell_type": "code",
   "execution_count": 11,
   "metadata": {},
   "outputs": [
    {
     "data": {
      "text/plain": [
       "True"
      ]
     },
     "execution_count": 11,
     "metadata": {},
     "output_type": "execute_result"
    }
   ],
   "source": [
    "def xo(s):\n",
    "    s = s.lower()\n",
    "    return s.count('x') == s.count('o')\n",
    "xo('xxoO')"
   ]
  },
  {
   "cell_type": "code",
   "execution_count": 32,
   "metadata": {},
   "outputs": [
    {
     "data": {
      "text/plain": [
       "'sd'"
      ]
     },
     "execution_count": 32,
     "metadata": {},
     "output_type": "execute_result"
    }
   ],
   "source": [
    "def disemvowel(s):\n",
    "    translator = str.maketrans({key: None for key in \"aeiouAEIOU\"})\n",
    "    return s.translate(translator)\n",
    "def disemvowel(s):\n",
    "    return s.translate(str.maketrans('','','aeiouAEIOU'))\n",
    "def disemvowel(string):\n",
    "    return \"\".join(c for c in string if c.lower() not in \"aeiou\")\n",
    "disemvowel('sade')\n"
   ]
  },
  {
   "cell_type": "code",
   "execution_count": 5,
   "metadata": {},
   "outputs": [
    {
     "data": {
      "text/plain": [
       "'abcdfhkqsw'"
      ]
     },
     "execution_count": 5,
     "metadata": {},
     "output_type": "execute_result"
    }
   ],
   "source": [
    "def longest(a1, a2):\n",
    "    return \"\".join(sorted(set(a1 + a2)))\n",
    "longest('askdsahch', 'asdasdhqwdfhbsc')"
   ]
  },
  {
   "cell_type": "code",
   "execution_count": 1,
   "metadata": {},
   "outputs": [
    {
     "name": "stdout",
     "output_type": "stream",
     "text": [
      "Z-Pp-Ggg-Llll-Nnnnn-Rrrrrr-Xxxxxxx-Qqqqqqqq-Eeeeeeeee-Nnnnnnnnnn-Uuuuuuuuuuu\n"
     ]
    }
   ],
   "source": [
    "def accum(s):\n",
    "    return '-'.join(c.upper() + c.lower() * i for i, c in enumerate(s))\n",
    "\n",
    "def accum(s):\n",
    "    return '-'.join((a * i).title() for i, a in enumerate(s, 1))\n",
    "print (accum('ZpglnRxqenU'))"
   ]
  },
  {
   "cell_type": "code",
   "execution_count": 2,
   "metadata": {},
   "outputs": [
    {
     "name": "stdout",
     "output_type": "stream",
     "text": [
      "7\n"
     ]
    }
   ],
   "source": [
    "def getCount(inputStr):\n",
    "    return sum(1 for let in inputStr if let in \"aeiouAEIOU\")\n",
    "\n",
    "def getCount(s):\n",
    "    return sum(c in 'aeiou' for c in s)\n",
    "print (getCount('abrucadoabrae'))"
   ]
  },
  {
   "cell_type": "code",
   "execution_count": 3,
   "metadata": {},
   "outputs": [
    {
     "name": "stdout",
     "output_type": "stream",
     "text": [
      "How Can Mirrors Be Real If Our Eyes Aren't Real\n"
     ]
    }
   ],
   "source": [
    "import string\n",
    "def toJadenCase(NonJadenStrings):\n",
    "    return string.capwords(NonJadenStrings)\n",
    "\n",
    "def toJadenCase(string):        \n",
    "    return \" \".join(w.capitalize() for w in string.split())\n",
    "print (toJadenCase(\"How can mirrors be real if our eyes aren't real\"))"
   ]
  },
  {
   "cell_type": "code",
   "execution_count": 4,
   "metadata": {},
   "outputs": [
    {
     "name": "stdout",
     "output_type": "stream",
     "text": [
      "ATTCG\n"
     ]
    }
   ],
   "source": [
    "def DNA_strand(dna):\n",
    "    return dna.translate(str.maketrans(\"ATCG\",\"TAGC\"))\n",
    "\n",
    "pairs = {'A':'T','T':'A','C':'G','G':'C'}\n",
    "def DNA_strand(dna):\n",
    "    return ''.join([pairs[x] for x in dna])\n",
    "print (DNA_strand('TAAGC'))"
   ]
  },
  {
   "cell_type": "code",
   "execution_count": 5,
   "metadata": {},
   "outputs": [
    {
     "name": "stdout",
     "output_type": "stream",
     "text": [
      "765441\n"
     ]
    }
   ],
   "source": [
    "def Descending_Order(num):\n",
    "    return int(\"\".join(sorted(str(num), reverse=True)))    \n",
    "print (Descending_Order(164457))"
   ]
  },
  {
   "cell_type": "code",
   "execution_count": 6,
   "metadata": {},
   "outputs": [
    {
     "name": "stdout",
     "output_type": "stream",
     "text": [
      "3\n"
     ]
    }
   ],
   "source": [
    "def find_short(s):\n",
    "    return min(len(w) for w in s.split())\n",
    "print (find_short(\"bitcoin take over the\"))"
   ]
  },
  {
   "cell_type": "code",
   "execution_count": 2,
   "metadata": {},
   "outputs": [
    {
     "name": "stdout",
     "output_type": "stream",
     "text": [
      "True\n"
     ]
    }
   ],
   "source": [
    "def is_isogram(string):\n",
    "    return len(string) == len(set(string.lower()))\n",
    "\n",
    "def is_isogram(string):\n",
    "    string = string.lower()\n",
    "    for letter in string:\n",
    "        if string.count(letter) > 1: return False\n",
    "    return True\n",
    "print (is_isogram(\"Dermatoglyphics\" ))"
   ]
  },
  {
   "cell_type": "code",
   "execution_count": 10,
   "metadata": {},
   "outputs": [
    {
     "name": "stdout",
     "output_type": "stream",
     "text": [
      "13\n"
     ]
    }
   ],
   "source": [
    "def sum_two_smallest_numbers(numbers):\n",
    "    numbers.sort()\n",
    "    return numbers[0] + numbers[1]\n",
    "\n",
    "def sum_two_smallest_numbers(numbers):\n",
    "    return sum(sorted(numbers)[:2])\n",
    "print (sum_two_smallest_numbers([5, 8, 12, 18, 22]))"
   ]
  },
  {
   "cell_type": "code",
   "execution_count": 62,
   "metadata": {},
   "outputs": [
    {
     "name": "stdout",
     "output_type": "stream",
     "text": [
      "[1, 2, 123]\n"
     ]
    }
   ],
   "source": [
    "def filter_list(l):\n",
    "    return [x for x in l if type(x) is not str]\n",
    "def filter_list(l):\n",
    "    return [i for i in l if not isinstance(i, str)]\n",
    "print (filter_list([1,2,'aasf','1','123',123]))"
   ]
  },
  {
   "cell_type": "code",
   "execution_count": 12,
   "metadata": {},
   "outputs": [
    {
     "name": "stdout",
     "output_type": "stream",
     "text": [
      "False\n"
     ]
    }
   ],
   "source": [
    "import re\n",
    "def validate_pin(pin):\n",
    "    return bool(re.match(r'^(\\d{4}|\\d{6})$',pin))\n",
    "def validate_pin(pin):\n",
    "    return len(pin) in (4, 6) and pin.isdigit()\n",
    "print (validate_pin(\"12345\"))"
   ]
  },
  {
   "cell_type": "code",
   "execution_count": 27,
   "metadata": {},
   "outputs": [
    {
     "data": {
      "text/plain": [
       "False"
      ]
     },
     "execution_count": 27,
     "metadata": {},
     "output_type": "execute_result"
    }
   ],
   "source": [
    "from math import sqrt\n",
    "\n",
    "def is_square(n):\n",
    "    return n > 0 and sqrt(n).is_integer()\n",
    "def is_square(n):  \n",
    "    return n>0 and (n**0.5).is_integer()\n",
    "is_square(-1)"
   ]
  },
  {
   "cell_type": "code",
   "execution_count": 64,
   "metadata": {},
   "outputs": [
    {
     "name": "stdout",
     "output_type": "stream",
     "text": [
      "<class 'int'>\n",
      "<class 'int'>\n",
      "<class 'str'>\n",
      "<class 'str'>\n",
      "<class 'str'>\n",
      "<class 'int'>\n"
     ]
    },
    {
     "data": {
      "text/plain": [
       "[1, 2, 123]"
      ]
     },
     "execution_count": 64,
     "metadata": {},
     "output_type": "execute_result"
    }
   ],
   "source": [
    "def filter_list(l):\n",
    "    a=[]\n",
    "    for x in l:\n",
    "        \n",
    "        print (type(x))\n",
    "        if not isinstance(x, str):\n",
    "            a.append(x)\n",
    "    return a\n",
    "filter_list([1, 2, 'aasf', '1', '123', 123])  "
   ]
  },
  {
   "cell_type": "code",
   "execution_count": 2,
   "metadata": {},
   "outputs": [
    {
     "data": {
      "text/plain": [
       "['Open', 'Senior', 'Open', 'Senior']"
      ]
     },
     "execution_count": 2,
     "metadata": {},
     "output_type": "execute_result"
    }
   ],
   "source": [
    "def openOrSenior(data):\n",
    "    return [\"Senior\" if age >= 55 and handicap >= 8 else \"Open\" for (age, handicap) in data]\n",
    "openOrSenior([[45, 12],[55,21],[19, -2],[104, 20]])"
   ]
  },
  {
   "cell_type": "code",
   "execution_count": 10,
   "metadata": {},
   "outputs": [
    {
     "data": {
      "text/plain": [
       "['WEST']"
      ]
     },
     "execution_count": 10,
     "metadata": {},
     "output_type": "execute_result"
    }
   ],
   "source": [
    "opposite = {'NORTH': 'SOUTH', 'EAST': 'WEST', 'SOUTH': 'NORTH', 'WEST': 'EAST'}\n",
    "\n",
    "def dirReduc(plan):\n",
    "    new_plan = []\n",
    "    for d in plan:\n",
    "        if new_plan and new_plan[-1] == opposite[d]:\n",
    "            new_plan.pop()\n",
    "        else:\n",
    "            new_plan.append(d)\n",
    "    return new_plan\n",
    "\n",
    "def dirReduc(arr):\n",
    "    dir = \" \".join(arr)\n",
    "    dir2 = dir.replace(\"NORTH SOUTH\",'').replace(\"SOUTH NORTH\",'').replace(\"EAST WEST\",'').replace(\"WEST EAST\",'')\n",
    "    dir3 = dir2.split()\n",
    "    return dirReduc(dir3) if len(dir3) < len(arr) else dir3\n",
    "a = [\"NORTH\", \"SOUTH\", \"SOUTH\", \"EAST\", \"WEST\", \"NORTH\", \"WEST\"]\n",
    "dirReduc(a)"
   ]
  },
  {
   "cell_type": "code",
   "execution_count": 5,
   "metadata": {},
   "outputs": [
    {
     "data": {
      "text/plain": [
       "[1, 7]"
      ]
     },
     "execution_count": 5,
     "metadata": {},
     "output_type": "execute_result"
    }
   ],
   "source": [
    "def sum_pairs(lst, s):\n",
    "    cache = set()\n",
    "    for i in lst:\n",
    "        if s - i in cache:\n",
    "            return [s - i, i]\n",
    "        cache.add(i)\n",
    "l1= [1, 4, 8, 7, 3, 15]\n",
    "sum_pairs(l1, 8)"
   ]
  },
  {
   "cell_type": "code",
   "execution_count": 1,
   "metadata": {},
   "outputs": [
    {
     "data": {
      "text/plain": [
       "6"
      ]
     },
     "execution_count": 1,
     "metadata": {},
     "output_type": "execute_result"
    }
   ],
   "source": [
    "class add(int):\n",
    "    def __call__(self,n):\n",
    "        return add(self+n)\n",
    "add(1)(2)(3)"
   ]
  },
  {
   "cell_type": "code",
   "execution_count": 7,
   "metadata": {},
   "outputs": [
    {
     "name": "stdout",
     "output_type": "stream",
     "text": [
      "['103', '123', '2000', '4444', '99']\n"
     ]
    },
    {
     "data": {
      "text/plain": [
       "'2000 103 123 4444 99'"
      ]
     },
     "execution_count": 7,
     "metadata": {},
     "output_type": "execute_result"
    }
   ],
   "source": [
    "def sum_string(s):\n",
    "    sum = 0\n",
    "    for digit in s:\n",
    "        sum += int(digit)\n",
    "    return sum\n",
    "\n",
    "def order_weight(strng):\n",
    "    # your code\n",
    "    initial_list = sorted(strng.split())\n",
    "    print (initial_list)\n",
    "    result = \" \".join(sorted(initial_list, key=sum_string))\n",
    "    \n",
    "    return result\n",
    "order_weight(\"103 123 4444 99 2000\")"
   ]
  },
  {
   "cell_type": "code",
   "execution_count": 8,
   "metadata": {},
   "outputs": [
    {
     "data": {
      "text/plain": [
       "6"
      ]
     },
     "execution_count": 8,
     "metadata": {},
     "output_type": "execute_result"
    }
   ],
   "source": [
    "def maxSequence(arr):\n",
    "    max,curr=0,0\n",
    "    for x in arr:\n",
    "        curr+=x\n",
    "        if curr<0:curr=0\n",
    "        if curr>max:max=curr\n",
    "    return max\n",
    "maxSequence([-2, 1, -3, 4, -1, 2, 1, -5, 4])"
   ]
  },
  {
   "cell_type": "code",
   "execution_count": 1,
   "metadata": {
    "collapsed": true
   },
   "outputs": [],
   "source": [
    "def productFib(prod):\n",
    "    a, b = 0, 1\n",
    "    while prod > a * b:\n",
    "        a, b = b, a + b\n",
    "    return [a, b, prod == a * b]"
   ]
  },
  {
   "cell_type": "code",
   "execution_count": 2,
   "metadata": {},
   "outputs": [
    {
     "data": {
      "text/plain": [
       "'elloHay orldway !'"
      ]
     },
     "execution_count": 2,
     "metadata": {},
     "output_type": "execute_result"
    }
   ],
   "source": [
    "def pig_it(text):\n",
    "    lst = text.split()\n",
    "    return ' '.join(word[1:] + word[:1] + 'ay' if word.isalpha() else word for word in lst)\n",
    "pig_it('Hello world !')"
   ]
  },
  {
   "cell_type": "code",
   "execution_count": 32,
   "metadata": {},
   "outputs": [
    {
     "data": {
      "text/plain": [
       "'Leonard'"
      ]
     },
     "execution_count": 32,
     "metadata": {},
     "output_type": "execute_result"
    }
   ],
   "source": [
    "def whoIsNext(names, r):\n",
    "    while r > 5:\n",
    "        r = int((r - 4) / 2)\n",
    "    return names[r-1]\n",
    "names = [\"Sheldon\", \"Leonard\", \"Penny\", \"Rajesh\", \"Howard\"]\n",
    "r = 92\n",
    "\n",
    "whoIsNext(names, r)"
   ]
  },
  {
   "cell_type": "code",
   "execution_count": 35,
   "metadata": {},
   "outputs": [
    {
     "data": {
      "text/plain": [
       "'00:02:00'"
      ]
     },
     "execution_count": 35,
     "metadata": {},
     "output_type": "execute_result"
    }
   ],
   "source": [
    "def make_readable(s):\n",
    "    return '{:02}:{:02}:{:02}'.format(int(s / 3600), int(s / 60 % 60), int(s % 60))\n",
    "make_readable(120)"
   ]
  },
  {
   "cell_type": "code",
   "execution_count": 13,
   "metadata": {},
   "outputs": [
    {
     "data": {
      "text/plain": [
       "'theStealthWarrior'"
      ]
     },
     "execution_count": 13,
     "metadata": {},
     "output_type": "execute_result"
    }
   ],
   "source": [
    "def to_camel_case(s):\n",
    "    removed = s.replace('-', ' ').replace('_', ' ').split()\n",
    "    if removed == '':\n",
    "        return ''\n",
    "    return removed[0] + ''.join([x.capitalize() for x in removed[1:]])\n",
    "to_camel_case(\"the_stealth-warrior\")"
   ]
  },
  {
   "cell_type": "code",
   "execution_count": 15,
   "metadata": {},
   "outputs": [
    {
     "name": "stdout",
     "output_type": "stream",
     "text": [
      "True\n",
      "True\n",
      "False\n"
     ]
    }
   ],
   "source": [
    "def is_merge(s, part1, part2):\n",
    "    return (s == part1 + part2 if not (s and part1 and part2) else\n",
    "        s[0] == part1[0] and is_merge(s[1:], part1[1:], part2) or\n",
    "        s[0] == part2[0] and is_merge(s[1:], part1, part2[1:]))\n",
    "\n",
    "def is_merge(s, part1, part2):\n",
    "    queue = [(s,part1,part2)]\n",
    "    while queue:\n",
    "        str, p1, p2 = queue.pop()            \n",
    "        if str:\n",
    "            if p1 and str[0] == p1[0]:\n",
    "                queue.append((str[1:], p1[1:], p2))\n",
    "            if p2 and str[0] == p2[0]:\n",
    "                queue.append((str[1:], p1, p2[1:]))\n",
    "        else:\n",
    "            if not p1 and not p2:\n",
    "                return True\n",
    "    return False\n",
    "\n",
    "print(is_merge('codewars', 'code', 'wars'));\n",
    "print(is_merge('codewars', 'cdw', 'oears'));\n",
    "print(is_merge('codewars', 'cod', 'wars'));"
   ]
  },
  {
   "cell_type": "code",
   "execution_count": 4,
   "metadata": {},
   "outputs": [
    {
     "name": "stdout",
     "output_type": "stream",
     "text": [
      "230 230\n",
      "430 430\n"
     ]
    }
   ],
   "source": [
    "import itertools\n",
    "def choose_best_sum(t, k, ls):\n",
    "    try:\n",
    "        return max(sum(i) for i in itertools.combinations(ls,k) if sum(i)<=t)\n",
    "    except:\n",
    "        return None\n",
    "xs = [100, 76, 56, 44, 89, 73, 68, 56, 64, 123, 2333, 144, 50, 132, 123, 34, 89]\n",
    "print (choose_best_sum(230, 4, xs), 230)\n",
    "print (choose_best_sum(430, 5, xs), 430)"
   ]
  },
  {
   "cell_type": "code",
   "execution_count": 18,
   "metadata": {},
   "outputs": [
    {
     "data": {
      "text/plain": [
       "[[1, 1], [42, 2500], [246, 84100]]"
      ]
     },
     "execution_count": 18,
     "metadata": {},
     "output_type": "execute_result"
    }
   ],
   "source": [
    "CACHE = {}\n",
    "\n",
    "def squared_cache(number):\n",
    "    divisors = [x for x in range(1, number + 1) if number % x == 0]\n",
    "    CACHE[number] = sum([x * x for x in divisors])\n",
    "    return CACHE[number]\n",
    "\n",
    "def list_squared(m, n):\n",
    "    ret =[]\n",
    "    \n",
    "    for number in range(m, n+1):\n",
    "        divisors_sum = squared_cache(number)\n",
    "        if (divisors_sum ** 0.5).is_integer():\n",
    "            ret.append([number, divisors_sum])\n",
    "    return ret\n",
    "list_squared(1, 250)"
   ]
  },
  {
   "cell_type": "code",
   "execution_count": 7,
   "metadata": {},
   "outputs": [
    {
     "name": "stdout",
     "output_type": "stream",
     "text": [
      "[101, 103] [101, 103]\n",
      "[103, 107] [103, 107]\n",
      "None None\n",
      "[359, 367] [359, 367]\n",
      "[337, 347] [337, 347]\n"
     ]
    }
   ],
   "source": [
    "def gap(g, m, n):\n",
    "    prev = 2\n",
    "    for x in range(m|1, n + 1, 2):\n",
    "        if all(x%d for d in range(3, int(x**0.5)+1, 2)):\n",
    "            if x - prev == g: return [prev, x]\n",
    "            prev = x\n",
    "\n",
    "print(gap(2,100,110), [101, 103])\n",
    "print(gap(4,100,110), [103, 107])\n",
    "print(gap(6,100,110), None)\n",
    "print(gap(8,300,400), [359, 367])\n",
    "print(gap(10,300,400), [337, 347])\n"
   ]
  },
  {
   "cell_type": "code",
   "execution_count": 81,
   "metadata": {},
   "outputs": [
    {
     "name": "stdout",
     "output_type": "stream",
     "text": [
      "True True\n",
      "True True\n",
      "False False\n",
      "True True\n",
      "True True\n"
     ]
    }
   ],
   "source": [
    "from collections import Counter\n",
    "def scramble(s1,s2):\n",
    "    # Counter basically creates a dictionary of counts and letters\n",
    "    # Using set subtraction, we know that if anything is left over,\n",
    "    # something exists in s2 that doesn't exist in s1\n",
    "    return len(Counter(s2) - Counter(s1)) == 0\n",
    "\n",
    "def scramble(s1,s2):\n",
    "    for c in set(s2):\n",
    "        if s1.count(c) < s2.count(c):\n",
    "            return False\n",
    "    return True\n",
    "print(scramble('rkqoddlw ','worldd'),True)\n",
    "print(scramble('cedewaraaossoqqyt','codewars'),True)\n",
    "print(scramble('katas','steak'),False)\n",
    "print(scramble('scriptjava','javascript'),True)\n",
    "print(scramble('scriptingjava','javascript'),True)       "
   ]
  },
  {
   "cell_type": "code",
   "execution_count": 24,
   "metadata": {},
   "outputs": [
    {
     "data": {
      "text/plain": [
       "['a',\n",
       " 'b',\n",
       " None,\n",
       " 'c',\n",
       " 'd',\n",
       " 1,\n",
       " False,\n",
       " 1,\n",
       " 3,\n",
       " [],\n",
       " 1,\n",
       " 9,\n",
       " {},\n",
       " 9,\n",
       " 0,\n",
       " 0,\n",
       " 0,\n",
       " 0,\n",
       " 0,\n",
       " 0,\n",
       " 0,\n",
       " 0,\n",
       " 0,\n",
       " 0]"
      ]
     },
     "execution_count": 24,
     "metadata": {},
     "output_type": "execute_result"
    }
   ],
   "source": [
    "def move_zeros(arr):\n",
    "    l = [i for i in arr if isinstance(i, bool) or i!=0]\n",
    "    return l+[0]*(len(arr)-len(l))\n",
    "\n",
    "def move_zeros(array):\n",
    "    return sorted(array, key=lambda x: x==0 and type(x) is not bool)\n",
    "\n",
    "move_zeros([\"a\",0,0,\"b\",None,\"c\",\"d\",0,1,False,0,1,0,3,[],0,1,9,0,0,{},0,0,9])"
   ]
  },
  {
   "cell_type": "code",
   "execution_count": 72,
   "metadata": {},
   "outputs": [
    {
     "data": {
      "text/plain": [
       "249"
      ]
     },
     "execution_count": 72,
     "metadata": {},
     "output_type": "execute_result"
    }
   ],
   "source": [
    "\n",
    "def zeros(n):\n",
    "    x = int(n/5)\n",
    "    return x+zeros(x) if x else 0\n",
    "def zeros(n):\n",
    "    \"\"\"\n",
    "    No factorial is going to have fewer zeros than the factorial of a smaller\n",
    "    number.\n",
    "\n",
    "    Each multiple of 5 adds a 0, so first we count how many multiples of 5 are\n",
    "    smaller than `n` (`n // 5`).\n",
    "\n",
    "    Each multiple of 25 adds two 0's, so next we add another 0 for each multiple\n",
    "    of 25 smaller than n.\n",
    "\n",
    "    We continue on for all powers of 5 smaller than (or equal to) n.\n",
    "    \"\"\"\n",
    "    pow_of_5 = 5\n",
    "    zeros = 0\n",
    "    \n",
    "    while n >= pow_of_5:\n",
    "        zeros += n // pow_of_5\n",
    "        pow_of_5 *= 5\n",
    "        \n",
    "    return zeros\n",
    "zeros(1000)"
   ]
  },
  {
   "cell_type": "code",
   "execution_count": 9,
   "metadata": {},
   "outputs": [
    {
     "data": {
      "text/plain": [
       "6216.0"
      ]
     },
     "execution_count": 9,
     "metadata": {},
     "output_type": "execute_result"
    }
   ],
   "source": [
    "class Solution:\n",
    "    def twoSum(self, nums, target):\n",
    "        \"\"\"\n",
    "        :type nums: List[int]\n",
    "        :type target: int\n",
    "        :rtype: List[int]\n",
    "        \"\"\"\n",
    "        for i in nums:\n",
    "            if i\n",
    "nums = [1, 3, 4, 7, 11]\n",
    "Solution.twoSum()"
   ]
  },
  {
   "cell_type": "code",
   "execution_count": 1,
   "metadata": {},
   "outputs": [
    {
     "name": "stdout",
     "output_type": "stream",
     "text": [
      "1\n",
      "3\n",
      "4\n",
      "7\n",
      "11\n"
     ]
    }
   ],
   "source": [
    "for i in [1, 3, 4, 7, 11]:\n",
    "    print(i)\n"
   ]
  },
  {
   "cell_type": "code",
   "execution_count": null,
   "metadata": {
    "collapsed": true
   },
   "outputs": [],
   "source": []
  },
  {
   "cell_type": "code",
   "execution_count": null,
   "metadata": {
    "collapsed": true
   },
   "outputs": [],
   "source": []
  },
  {
   "cell_type": "code",
   "execution_count": null,
   "metadata": {
    "collapsed": true
   },
   "outputs": [],
   "source": []
  },
  {
   "cell_type": "code",
   "execution_count": null,
   "metadata": {
    "collapsed": true
   },
   "outputs": [],
   "source": []
  },
  {
   "cell_type": "code",
   "execution_count": null,
   "metadata": {
    "collapsed": true
   },
   "outputs": [],
   "source": []
  },
  {
   "cell_type": "code",
   "execution_count": null,
   "metadata": {
    "collapsed": true
   },
   "outputs": [],
   "source": []
  },
  {
   "cell_type": "code",
   "execution_count": null,
   "metadata": {
    "collapsed": true
   },
   "outputs": [],
   "source": []
  },
  {
   "cell_type": "code",
   "execution_count": null,
   "metadata": {
    "collapsed": true
   },
   "outputs": [],
   "source": []
  },
  {
   "cell_type": "code",
   "execution_count": null,
   "metadata": {
    "collapsed": true
   },
   "outputs": [],
   "source": []
  },
  {
   "cell_type": "code",
   "execution_count": null,
   "metadata": {
    "collapsed": true
   },
   "outputs": [],
   "source": []
  },
  {
   "cell_type": "code",
   "execution_count": null,
   "metadata": {
    "collapsed": true
   },
   "outputs": [],
   "source": []
  },
  {
   "cell_type": "code",
   "execution_count": null,
   "metadata": {
    "collapsed": true
   },
   "outputs": [],
   "source": []
  },
  {
   "cell_type": "code",
   "execution_count": null,
   "metadata": {
    "collapsed": true
   },
   "outputs": [],
   "source": []
  },
  {
   "cell_type": "code",
   "execution_count": null,
   "metadata": {
    "collapsed": true
   },
   "outputs": [],
   "source": []
  },
  {
   "cell_type": "code",
   "execution_count": null,
   "metadata": {
    "collapsed": true
   },
   "outputs": [],
   "source": []
  },
  {
   "cell_type": "code",
   "execution_count": null,
   "metadata": {
    "collapsed": true
   },
   "outputs": [],
   "source": []
  }
 ],
 "metadata": {
  "kernelspec": {
   "display_name": "Python 3",
   "language": "python",
   "name": "python3"
  },
  "language_info": {
   "codemirror_mode": {
    "name": "ipython",
    "version": 3
   },
   "file_extension": ".py",
   "mimetype": "text/x-python",
   "name": "python",
   "nbconvert_exporter": "python",
   "pygments_lexer": "ipython3",
   "version": "3.6.3"
  }
 },
 "nbformat": 4,
 "nbformat_minor": 2
}
